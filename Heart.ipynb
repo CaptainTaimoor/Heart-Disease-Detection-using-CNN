{
  "cells": [
    {
      "cell_type": "markdown",
      "metadata": {
        "id": "view-in-github",
        "colab_type": "text"
      },
      "source": [
        "<a href=\"https://colab.research.google.com/github/taimoortiger/Heart-Disease-Detection-using-CNN/blob/main/Heart.ipynb\" target=\"_parent\"><img src=\"https://colab.research.google.com/assets/colab-badge.svg\" alt=\"Open In Colab\"/></a>"
      ]
    },
    {
      "cell_type": "code",
      "execution_count": null,
      "id": "e852c1e0",
      "metadata": {
        "id": "e852c1e0"
      },
      "outputs": [],
      "source": [
        "import os\n",
        "import cv2\n",
        "import numpy as np\n",
        "import pandas as pd\n",
        "import matplotlib.pyplot as plt\n",
        "from sklearn.model_selection import train_test_split\n",
        "from sklearn.preprocessing import LabelEncoder, StandardScaler, OneHotEncoder ,MinMaxScaler\n",
        "from sklearn.metrics import accuracy_score, classification_report, confusion_matrix\n",
        "from keras.models import Sequential\n",
        "from keras.layers import Dense, Flatten\n",
        "from keras.models import load_model\n",
        "from keras_radam import RAdam"
      ]
    },
    {
      "cell_type": "code",
      "execution_count": null,
      "id": "e73ad05e",
      "metadata": {
        "id": "e73ad05e",
        "outputId": "6d8715d6-facc-44ef-def7-d4ee578c453c"
      },
      "outputs": [
        {
          "data": {
            "text/html": [
              "<div>\n",
              "<style scoped>\n",
              "    .dataframe tbody tr th:only-of-type {\n",
              "        vertical-align: middle;\n",
              "    }\n",
              "\n",
              "    .dataframe tbody tr th {\n",
              "        vertical-align: top;\n",
              "    }\n",
              "\n",
              "    .dataframe thead th {\n",
              "        text-align: right;\n",
              "    }\n",
              "</style>\n",
              "<table border=\"1\" class=\"dataframe\">\n",
              "  <thead>\n",
              "    <tr style=\"text-align: right;\">\n",
              "      <th></th>\n",
              "      <th>Age</th>\n",
              "      <th>Sex</th>\n",
              "      <th>RestingBP</th>\n",
              "      <th>Cholesterol</th>\n",
              "      <th>FastingBS</th>\n",
              "      <th>RestingECG</th>\n",
              "      <th>MaxHR</th>\n",
              "      <th>ExerciseAngina</th>\n",
              "      <th>Oldpeak</th>\n",
              "      <th>ST_Slope</th>\n",
              "      <th>HeartDisease</th>\n",
              "    </tr>\n",
              "  </thead>\n",
              "  <tbody>\n",
              "    <tr>\n",
              "      <th>0</th>\n",
              "      <td>40</td>\n",
              "      <td>M</td>\n",
              "      <td>140</td>\n",
              "      <td>289</td>\n",
              "      <td>0</td>\n",
              "      <td>Normal</td>\n",
              "      <td>172</td>\n",
              "      <td>N</td>\n",
              "      <td>0.0</td>\n",
              "      <td>Up</td>\n",
              "      <td>0</td>\n",
              "    </tr>\n",
              "    <tr>\n",
              "      <th>1</th>\n",
              "      <td>49</td>\n",
              "      <td>F</td>\n",
              "      <td>160</td>\n",
              "      <td>180</td>\n",
              "      <td>0</td>\n",
              "      <td>Normal</td>\n",
              "      <td>156</td>\n",
              "      <td>N</td>\n",
              "      <td>1.0</td>\n",
              "      <td>Flat</td>\n",
              "      <td>1</td>\n",
              "    </tr>\n",
              "    <tr>\n",
              "      <th>2</th>\n",
              "      <td>37</td>\n",
              "      <td>M</td>\n",
              "      <td>130</td>\n",
              "      <td>283</td>\n",
              "      <td>0</td>\n",
              "      <td>ST</td>\n",
              "      <td>98</td>\n",
              "      <td>N</td>\n",
              "      <td>0.0</td>\n",
              "      <td>Up</td>\n",
              "      <td>0</td>\n",
              "    </tr>\n",
              "    <tr>\n",
              "      <th>3</th>\n",
              "      <td>48</td>\n",
              "      <td>F</td>\n",
              "      <td>138</td>\n",
              "      <td>214</td>\n",
              "      <td>0</td>\n",
              "      <td>Normal</td>\n",
              "      <td>108</td>\n",
              "      <td>Y</td>\n",
              "      <td>1.5</td>\n",
              "      <td>Flat</td>\n",
              "      <td>1</td>\n",
              "    </tr>\n",
              "    <tr>\n",
              "      <th>4</th>\n",
              "      <td>54</td>\n",
              "      <td>M</td>\n",
              "      <td>150</td>\n",
              "      <td>195</td>\n",
              "      <td>0</td>\n",
              "      <td>Normal</td>\n",
              "      <td>122</td>\n",
              "      <td>N</td>\n",
              "      <td>0.0</td>\n",
              "      <td>Up</td>\n",
              "      <td>0</td>\n",
              "    </tr>\n",
              "    <tr>\n",
              "      <th>...</th>\n",
              "      <td>...</td>\n",
              "      <td>...</td>\n",
              "      <td>...</td>\n",
              "      <td>...</td>\n",
              "      <td>...</td>\n",
              "      <td>...</td>\n",
              "      <td>...</td>\n",
              "      <td>...</td>\n",
              "      <td>...</td>\n",
              "      <td>...</td>\n",
              "      <td>...</td>\n",
              "    </tr>\n",
              "    <tr>\n",
              "      <th>913</th>\n",
              "      <td>45</td>\n",
              "      <td>M</td>\n",
              "      <td>110</td>\n",
              "      <td>264</td>\n",
              "      <td>0</td>\n",
              "      <td>Normal</td>\n",
              "      <td>132</td>\n",
              "      <td>N</td>\n",
              "      <td>1.2</td>\n",
              "      <td>Flat</td>\n",
              "      <td>1</td>\n",
              "    </tr>\n",
              "    <tr>\n",
              "      <th>914</th>\n",
              "      <td>68</td>\n",
              "      <td>M</td>\n",
              "      <td>144</td>\n",
              "      <td>193</td>\n",
              "      <td>1</td>\n",
              "      <td>Normal</td>\n",
              "      <td>141</td>\n",
              "      <td>N</td>\n",
              "      <td>3.4</td>\n",
              "      <td>Flat</td>\n",
              "      <td>1</td>\n",
              "    </tr>\n",
              "    <tr>\n",
              "      <th>915</th>\n",
              "      <td>57</td>\n",
              "      <td>M</td>\n",
              "      <td>130</td>\n",
              "      <td>131</td>\n",
              "      <td>0</td>\n",
              "      <td>Normal</td>\n",
              "      <td>115</td>\n",
              "      <td>Y</td>\n",
              "      <td>1.2</td>\n",
              "      <td>Flat</td>\n",
              "      <td>1</td>\n",
              "    </tr>\n",
              "    <tr>\n",
              "      <th>916</th>\n",
              "      <td>57</td>\n",
              "      <td>F</td>\n",
              "      <td>130</td>\n",
              "      <td>236</td>\n",
              "      <td>0</td>\n",
              "      <td>LVH</td>\n",
              "      <td>174</td>\n",
              "      <td>N</td>\n",
              "      <td>0.0</td>\n",
              "      <td>Flat</td>\n",
              "      <td>1</td>\n",
              "    </tr>\n",
              "    <tr>\n",
              "      <th>917</th>\n",
              "      <td>38</td>\n",
              "      <td>M</td>\n",
              "      <td>138</td>\n",
              "      <td>175</td>\n",
              "      <td>0</td>\n",
              "      <td>Normal</td>\n",
              "      <td>173</td>\n",
              "      <td>N</td>\n",
              "      <td>0.0</td>\n",
              "      <td>Up</td>\n",
              "      <td>0</td>\n",
              "    </tr>\n",
              "  </tbody>\n",
              "</table>\n",
              "<p>918 rows × 11 columns</p>\n",
              "</div>"
            ],
            "text/plain": [
              "     Age Sex  RestingBP  Cholesterol  FastingBS RestingECG  MaxHR  \\\n",
              "0     40   M        140          289          0     Normal    172   \n",
              "1     49   F        160          180          0     Normal    156   \n",
              "2     37   M        130          283          0         ST     98   \n",
              "3     48   F        138          214          0     Normal    108   \n",
              "4     54   M        150          195          0     Normal    122   \n",
              "..   ...  ..        ...          ...        ...        ...    ...   \n",
              "913   45   M        110          264          0     Normal    132   \n",
              "914   68   M        144          193          1     Normal    141   \n",
              "915   57   M        130          131          0     Normal    115   \n",
              "916   57   F        130          236          0        LVH    174   \n",
              "917   38   M        138          175          0     Normal    173   \n",
              "\n",
              "    ExerciseAngina  Oldpeak ST_Slope  HeartDisease  \n",
              "0                N      0.0       Up             0  \n",
              "1                N      1.0     Flat             1  \n",
              "2                N      0.0       Up             0  \n",
              "3                Y      1.5     Flat             1  \n",
              "4                N      0.0       Up             0  \n",
              "..             ...      ...      ...           ...  \n",
              "913              N      1.2     Flat             1  \n",
              "914              N      3.4     Flat             1  \n",
              "915              Y      1.2     Flat             1  \n",
              "916              N      0.0     Flat             1  \n",
              "917              N      0.0       Up             0  \n",
              "\n",
              "[918 rows x 11 columns]"
            ]
          },
          "execution_count": 3,
          "metadata": {},
          "output_type": "execute_result"
        }
      ],
      "source": [
        "df=pd.read_csv('heart (2).csv')\n",
        "df"
      ]
    },
    {
      "cell_type": "code",
      "execution_count": null,
      "id": "6727dc32",
      "metadata": {
        "id": "6727dc32",
        "outputId": "70a2e543-fb2b-467f-c938-6d29e5927061"
      },
      "outputs": [
        {
          "data": {
            "text/plain": [
              "Age               0\n",
              "Sex               0\n",
              "RestingBP         0\n",
              "Cholesterol       0\n",
              "FastingBS         0\n",
              "RestingECG        0\n",
              "MaxHR             0\n",
              "ExerciseAngina    0\n",
              "Oldpeak           0\n",
              "ST_Slope          0\n",
              "HeartDisease      0\n",
              "dtype: int64"
            ]
          },
          "execution_count": 6,
          "metadata": {},
          "output_type": "execute_result"
        }
      ],
      "source": [
        "df.isnull().sum()"
      ]
    },
    {
      "cell_type": "code",
      "execution_count": null,
      "id": "0774fb39",
      "metadata": {
        "id": "0774fb39",
        "outputId": "818d2e28-140c-43de-957e-8bf762986496"
      },
      "outputs": [
        {
          "data": {
            "text/plain": [
              "(918, 10)"
            ]
          },
          "execution_count": 10,
          "metadata": {},
          "output_type": "execute_result"
        }
      ],
      "source": [
        "X=df.iloc[:,:-1]\n",
        "y=df['HeartDisease']\n",
        "\n",
        "#Encode using\n",
        "encode = LabelEncoder()\n",
        "\n",
        "X['Sex'] = encode.fit_transform(X['Sex'])\n",
        "X['RestingECG'] = encode.fit_transform(X['RestingECG'])\n",
        "X['ExerciseAngina'] = encode.fit_transform(X['ExerciseAngina'])\n",
        "X['ST_Slope'] = encode.fit_transform(X['ST_Slope'])\n",
        "\n",
        "#Scaling using StandardScaler\n",
        "scale = StandardScaler()\n",
        "X_scaled = scale.fit_transform(X)\n",
        "X_scaled\n",
        "\n",
        "#Splitting data into training testing set\n",
        "X_train, X_test, y_train, y_test=train_test_split(X_scaled, y, test_size=0.2, random_state=42)\n",
        "X_scaled.shape"
      ]
    },
    {
      "cell_type": "code",
      "execution_count": null,
      "id": "2a55ecef",
      "metadata": {
        "id": "2a55ecef",
        "outputId": "0af1d32e-bfd2-445c-8ad1-30100e658038"
      },
      "outputs": [
        {
          "name": "stdout",
          "output_type": "stream",
          "text": [
            "Model: \"sequential_1\"\n",
            "_________________________________________________________________\n",
            " Layer (type)                Output Shape              Param #   \n",
            "=================================================================\n",
            " dense_3 (Dense)             (None, 130)               1430      \n",
            "                                                                 \n",
            " dense_4 (Dense)             (None, 100)               13100     \n",
            "                                                                 \n",
            " dense_5 (Dense)             (None, 2)                 202       \n",
            "                                                                 \n",
            "=================================================================\n",
            "Total params: 14732 (57.55 KB)\n",
            "Trainable params: 14732 (57.55 KB)\n",
            "Non-trainable params: 0 (0.00 Byte)\n",
            "_________________________________________________________________\n"
          ]
        }
      ],
      "source": [
        "#Creating a sential model\n",
        "model = Sequential()\n",
        "\n",
        "#Add a dense layer with 128 units and relu activation funstion as input layer\n",
        "model.add(Dense(130, activation='relu', input_shape=(10,)))\n",
        "\n",
        "#Add another dense layer with 64 units and relu activation function\n",
        "model.add(Dense(100, activation='relu'))\n",
        "\n",
        "#Add the output layer as number of classes of labels with siftmax activation function\n",
        "model.add(Dense(2, activation='softmax'))\n",
        "\n",
        "#Compile the model with 'categorical_crossentropy' loss function and 'adam' optimizer\n",
        "model.compile(loss='binary_crossentropy', optimizer='adam', metrics=['accuracy'])\n",
        "\n",
        "#Print the model\n",
        "model.summary()"
      ]
    },
    {
      "cell_type": "code",
      "execution_count": null,
      "id": "a2b3a55d",
      "metadata": {
        "id": "a2b3a55d",
        "outputId": "518d15f3-9424-436f-fb44-0d53ac500389"
      },
      "outputs": [
        {
          "name": "stdout",
          "output_type": "stream",
          "text": [
            "Total Trainable Parameters in the Model =  14732\n"
          ]
        }
      ],
      "source": [
        "#Number of trainable parameters in 1st dense layer\n",
        "layer1=10*130+130\n",
        "\n",
        "#Number of trainable parameters in 2nd dense layer\n",
        "layer2=130*100+100\n",
        "\n",
        "#Number of trainable parameters in 3ed dense layer\n",
        "layer3=100*2+2\n",
        "\n",
        "#Total Trainable Parameters in the Model\n",
        "total=layer1+layer2+layer3\n",
        "print('Total Trainable Parameters in the Model = ', total)"
      ]
    },
    {
      "cell_type": "code",
      "execution_count": null,
      "id": "91bc2697",
      "metadata": {
        "id": "91bc2697",
        "outputId": "035082d2-c3bd-4515-df8e-03b0e698b7cb"
      },
      "outputs": [
        {
          "name": "stdout",
          "output_type": "stream",
          "text": [
            "Epoch 1/27\n",
            "37/37 [==============================] - 1s 7ms/step - loss: 0.5018 - accuracy: 0.8126 - val_loss: 0.4159 - val_accuracy: 0.8435\n",
            "Epoch 2/27\n",
            "37/37 [==============================] - 0s 2ms/step - loss: 0.3615 - accuracy: 0.8620 - val_loss: 0.3888 - val_accuracy: 0.8435\n",
            "Epoch 3/27\n",
            "37/37 [==============================] - 0s 2ms/step - loss: 0.3419 - accuracy: 0.8688 - val_loss: 0.3820 - val_accuracy: 0.8571\n",
            "Epoch 4/27\n",
            "37/37 [==============================] - 0s 2ms/step - loss: 0.3251 - accuracy: 0.8739 - val_loss: 0.3822 - val_accuracy: 0.8571\n",
            "Epoch 5/27\n",
            "37/37 [==============================] - 0s 2ms/step - loss: 0.3127 - accuracy: 0.8807 - val_loss: 0.3818 - val_accuracy: 0.8571\n",
            "Epoch 6/27\n",
            "37/37 [==============================] - 0s 2ms/step - loss: 0.3018 - accuracy: 0.8893 - val_loss: 0.3761 - val_accuracy: 0.8571\n",
            "Epoch 7/27\n",
            "37/37 [==============================] - 0s 2ms/step - loss: 0.2906 - accuracy: 0.8842 - val_loss: 0.3737 - val_accuracy: 0.8571\n",
            "Epoch 8/27\n",
            "37/37 [==============================] - 0s 2ms/step - loss: 0.2819 - accuracy: 0.8859 - val_loss: 0.3698 - val_accuracy: 0.8571\n",
            "Epoch 9/27\n",
            "37/37 [==============================] - 0s 2ms/step - loss: 0.2717 - accuracy: 0.8927 - val_loss: 0.3697 - val_accuracy: 0.8571\n",
            "Epoch 10/27\n",
            "37/37 [==============================] - 0s 3ms/step - loss: 0.2624 - accuracy: 0.9012 - val_loss: 0.3889 - val_accuracy: 0.8571\n",
            "Epoch 11/27\n",
            "37/37 [==============================] - 0s 3ms/step - loss: 0.2551 - accuracy: 0.8995 - val_loss: 0.4008 - val_accuracy: 0.8503\n",
            "Epoch 12/27\n",
            "37/37 [==============================] - 0s 2ms/step - loss: 0.2486 - accuracy: 0.9046 - val_loss: 0.4038 - val_accuracy: 0.8503\n",
            "Epoch 13/27\n",
            "37/37 [==============================] - 0s 2ms/step - loss: 0.2352 - accuracy: 0.9080 - val_loss: 0.3983 - val_accuracy: 0.8503\n",
            "Epoch 14/27\n",
            "37/37 [==============================] - 0s 2ms/step - loss: 0.2259 - accuracy: 0.9080 - val_loss: 0.4069 - val_accuracy: 0.8503\n",
            "Epoch 15/27\n",
            "37/37 [==============================] - 0s 3ms/step - loss: 0.2202 - accuracy: 0.9165 - val_loss: 0.4135 - val_accuracy: 0.8435\n",
            "Epoch 16/27\n",
            "37/37 [==============================] - 0s 3ms/step - loss: 0.2155 - accuracy: 0.9216 - val_loss: 0.4062 - val_accuracy: 0.8503\n",
            "Epoch 17/27\n",
            "37/37 [==============================] - 0s 3ms/step - loss: 0.2088 - accuracy: 0.9199 - val_loss: 0.4250 - val_accuracy: 0.8503\n",
            "Epoch 18/27\n",
            "37/37 [==============================] - 0s 3ms/step - loss: 0.2016 - accuracy: 0.9148 - val_loss: 0.4358 - val_accuracy: 0.8503\n",
            "Epoch 19/27\n",
            "37/37 [==============================] - 0s 3ms/step - loss: 0.1925 - accuracy: 0.9250 - val_loss: 0.4303 - val_accuracy: 0.8435\n",
            "Epoch 20/27\n",
            "37/37 [==============================] - 0s 3ms/step - loss: 0.1906 - accuracy: 0.9199 - val_loss: 0.4400 - val_accuracy: 0.8299\n",
            "Epoch 21/27\n",
            "37/37 [==============================] - 0s 3ms/step - loss: 0.1796 - accuracy: 0.9302 - val_loss: 0.4571 - val_accuracy: 0.8503\n",
            "Epoch 22/27\n",
            "37/37 [==============================] - 0s 2ms/step - loss: 0.1730 - accuracy: 0.9302 - val_loss: 0.4788 - val_accuracy: 0.8503\n",
            "Epoch 23/27\n",
            "37/37 [==============================] - 0s 2ms/step - loss: 0.1684 - accuracy: 0.9302 - val_loss: 0.4831 - val_accuracy: 0.8435\n",
            "Epoch 24/27\n",
            "37/37 [==============================] - 0s 2ms/step - loss: 0.1584 - accuracy: 0.9387 - val_loss: 0.5059 - val_accuracy: 0.8299\n",
            "Epoch 25/27\n",
            "37/37 [==============================] - 0s 3ms/step - loss: 0.1548 - accuracy: 0.9387 - val_loss: 0.4695 - val_accuracy: 0.8435\n",
            "Epoch 26/27\n",
            "37/37 [==============================] - 0s 3ms/step - loss: 0.1526 - accuracy: 0.9421 - val_loss: 0.4889 - val_accuracy: 0.8435\n",
            "Epoch 27/27\n",
            "37/37 [==============================] - 0s 3ms/step - loss: 0.1472 - accuracy: 0.9506 - val_loss: 0.4859 - val_accuracy: 0.8367\n"
          ]
        }
      ],
      "source": [
        "# Convert target variables to one-hot encoded format for multi-class classification\n",
        "from keras.utils import to_categorical\n",
        "y_train_encoded = to_categorical(y_train)\n",
        "y_test_encoded = to_categorical(y_test)\n",
        "\n",
        "#Training model on the train set\n",
        "dl_model=model.fit(X_train, y_train_encoded, batch_size=16, epochs=27 ,validation_split=0.2)"
      ]
    },
    {
      "cell_type": "code",
      "execution_count": null,
      "id": "41afe9fa",
      "metadata": {
        "id": "41afe9fa",
        "outputId": "10b2a81a-eb8a-481c-a587-97ef587b0589"
      },
      "outputs": [
        {
          "name": "stdout",
          "output_type": "stream",
          "text": [
            "6/6 [==============================] - 0s 2ms/step\n",
            "Accuracy 0.7989130434782609\n",
            "              precision    recall  f1-score   support\n",
            "\n",
            "           0       0.74      0.81      0.77        77\n",
            "           1       0.85      0.79      0.82       107\n",
            "\n",
            "    accuracy                           0.80       184\n",
            "   macro avg       0.79      0.80      0.80       184\n",
            "weighted avg       0.80      0.80      0.80       184\n",
            "\n",
            "Confusion Matrix:\n",
            "[[62 15]\n",
            " [22 85]]\n"
          ]
        }
      ],
      "source": [
        "#predicting the labels\n",
        "y_pred_encoded = model.predict(X_test)\n",
        "y_pred = np.argmax(y_pred_encoded, axis=1)\n",
        "\n",
        "#Calculating the accuracy\n",
        "acc = accuracy_score(y_test, y_pred)\n",
        "print('Accuracy', acc)\n",
        "\n",
        "#Classification report\n",
        "print(classification_report(y_test, y_pred))\n",
        "\n",
        "#Print confusion matrix\n",
        "cm=confusion_matrix(y_test, y_pred)\n",
        "print('Confusion Matrix:')\n",
        "print(cm)"
      ]
    },
    {
      "cell_type": "code",
      "execution_count": null,
      "id": "a2e7fba9",
      "metadata": {
        "id": "a2e7fba9",
        "outputId": "470f764a-a2a1-494f-fb10-4998ecf11943"
      },
      "outputs": [
        {
          "data": {
            "text/plain": [
              "0.85"
            ]
          },
          "execution_count": 50,
          "metadata": {},
          "output_type": "execute_result"
        }
      ],
      "source": [
        "from sklearn.metrics import precision_score\n",
        "\n",
        "prec = precision_score(y_test, y_pred)\n",
        "\n",
        "prec"
      ]
    }
  ],
  "metadata": {
    "kernelspec": {
      "display_name": "Python 3 (ipykernel)",
      "language": "python",
      "name": "python3"
    },
    "language_info": {
      "codemirror_mode": {
        "name": "ipython",
        "version": 3
      },
      "file_extension": ".py",
      "mimetype": "text/x-python",
      "name": "python",
      "nbconvert_exporter": "python",
      "pygments_lexer": "ipython3",
      "version": "3.10.9"
    },
    "colab": {
      "provenance": [],
      "include_colab_link": true
    }
  },
  "nbformat": 4,
  "nbformat_minor": 5
}